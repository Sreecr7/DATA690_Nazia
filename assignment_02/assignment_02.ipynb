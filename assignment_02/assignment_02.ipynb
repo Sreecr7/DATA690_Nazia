{
  "nbformat": 4,
  "nbformat_minor": 0,
  "metadata": {
    "colab": {
      "name": "assignment_02.ipynb",
      "provenance": [],
      "collapsed_sections": [],
      "authorship_tag": "ABX9TyMLaV5aYQ/1ZEmgwlWC4agu",
      "include_colab_link": true
    },
    "kernelspec": {
      "name": "python3",
      "display_name": "Python 3"
    },
    "language_info": {
      "name": "python"
    }
  },
  "cells": [
    {
      "cell_type": "markdown",
      "metadata": {
        "id": "view-in-github",
        "colab_type": "text"
      },
      "source": [
        "<a href=\"https://colab.research.google.com/github/Sreecr7/DATA690_Nazia/blob/main/assignment_02/assignment_02.ipynb\" target=\"_parent\"><img src=\"https://colab.research.google.com/assets/colab-badge.svg\" alt=\"Open In Colab\"/></a>"
      ]
    },
    {
      "cell_type": "markdown",
      "metadata": {
        "id": "lc81w0k9vMcC"
      },
      "source": [
        "# 1. Prompts a user to enter 10 integers.\n"
      ]
    },
    {
      "cell_type": "code",
      "metadata": {
        "colab": {
          "base_uri": "https://localhost:8080/"
        },
        "id": "6o1lFPB1vJup",
        "outputId": "2d8f4548-d7d7-47f2-f6ae-59addf73ea14"
      },
      "source": [
        "the_list = []\n",
        "\n",
        "for i in range(0,10):\n",
        "    while True:\n",
        "        x = input(\"Please enter an integer:\")\n",
        "        try:\n",
        "            y = int(x)\n",
        "            the_list.append(y)\n",
        "            print(\"got integer:\", y)\n",
        "            break\n",
        "        except:\n",
        "            print(\"You must enter an integer. Please try again.\")\n",
        "\n",
        "\n",
        "print(\"You have entered:\", the_list)"
      ],
      "execution_count": 20,
      "outputs": [
        {
          "output_type": "stream",
          "name": "stdout",
          "text": [
            "Please enter an integer:1\n",
            "got integer: 1\n",
            "Please enter an integer:2\n",
            "got integer: 2\n",
            "Please enter an integer:3\n",
            "got integer: 3\n",
            "Please enter an integer:4\n",
            "got integer: 4\n",
            "Please enter an integer:5\n",
            "got integer: 5\n",
            "Please enter an integer:6\n",
            "got integer: 6\n",
            "Please enter an integer:7\n",
            "got integer: 7\n",
            "Please enter an integer:8\n",
            "got integer: 8\n",
            "Please enter an integer:9\n",
            "got integer: 9\n",
            "Please enter an integer:10\n",
            "got integer: 10\n",
            "You have entered: [1, 2, 3, 4, 5, 6, 7, 8, 9, 10]\n"
          ]
        }
      ]
    },
    {
      "cell_type": "code",
      "metadata": {
        "colab": {
          "base_uri": "https://localhost:8080/"
        },
        "id": "3cQvuAFdoWgN",
        "outputId": "06ce1222-97f7-4972-c016-fd345e057180"
      },
      "source": [
        "max = the_list[0]\n",
        "for x in the_list:\n",
        "  if x > max:\n",
        "    max = x\n",
        "print(max)"
      ],
      "execution_count": 21,
      "outputs": [
        {
          "output_type": "stream",
          "name": "stdout",
          "text": [
            "10\n"
          ]
        }
      ]
    },
    {
      "cell_type": "code",
      "metadata": {
        "colab": {
          "base_uri": "https://localhost:8080/"
        },
        "id": "ceejiM_Lp-Ic",
        "outputId": "664d0142-fbeb-425d-a7b1-296ce2fc6943"
      },
      "source": [
        "min  = the_list[0]\n",
        "for x in the_list:\n",
        "  if x < min:\n",
        "    min = x\n",
        "print(min)"
      ],
      "execution_count": 22,
      "outputs": [
        {
          "output_type": "stream",
          "name": "stdout",
          "text": [
            "1\n"
          ]
        }
      ]
    },
    {
      "cell_type": "code",
      "metadata": {
        "colab": {
          "base_uri": "https://localhost:8080/"
        },
        "id": "4IOvVrZGqeCB",
        "outputId": "d239765b-47ec-4715-d639-01b6ed7e0699"
      },
      "source": [
        "Range= max-min\n",
        "print(\"Range is:\", Range)"
      ],
      "execution_count": 23,
      "outputs": [
        {
          "output_type": "stream",
          "name": "stdout",
          "text": [
            "Range is: 9\n"
          ]
        }
      ]
    },
    {
      "cell_type": "code",
      "metadata": {
        "colab": {
          "base_uri": "https://localhost:8080/"
        },
        "id": "PHTe3bHnqH-q",
        "outputId": "87570c07-5a36-4741-ef38-108bfded090c"
      },
      "source": [
        "total = 0\n",
        "\n",
        "for i in the_list:\n",
        "    total += i    # total = total + i\n",
        "\n",
        "print(\"total = \", total)"
      ],
      "execution_count": 24,
      "outputs": [
        {
          "output_type": "stream",
          "name": "stdout",
          "text": [
            "total =  55\n"
          ]
        }
      ]
    },
    {
      "cell_type": "code",
      "metadata": {
        "colab": {
          "base_uri": "https://localhost:8080/"
        },
        "id": "hOYjpmPMqKOt",
        "outputId": "d4519448-1671-4c78-a1a7-0b313cba70a4"
      },
      "source": [
        "mean = total / len(the_list)\n",
        "print(mean)"
      ],
      "execution_count": 25,
      "outputs": [
        {
          "output_type": "stream",
          "name": "stdout",
          "text": [
            "5.5\n"
          ]
        }
      ]
    },
    {
      "cell_type": "code",
      "metadata": {
        "colab": {
          "base_uri": "https://localhost:8080/"
        },
        "id": "_6dBs-LFqKcf",
        "outputId": "c6df36db-7adc-47d9-f6d2-c87a2d7890a5"
      },
      "source": [
        " deviations = [(x - mean) ** 2 for x in the_list]\n",
        " n=len(the_list)\n",
        "variance = sum(deviations) / n\n",
        "print(variance)"
      ],
      "execution_count": 26,
      "outputs": [
        {
          "output_type": "stream",
          "name": "stdout",
          "text": [
            "8.25\n"
          ]
        }
      ]
    },
    {
      "cell_type": "code",
      "metadata": {
        "colab": {
          "base_uri": "https://localhost:8080/"
        },
        "id": "YsDhE-xx1DcZ",
        "outputId": "01c383f5-d3f1-4556-df87-dd39ca456735"
      },
      "source": [
        "SD= variance ** 0.5\n",
        "print(\"Standard Deviation is:\",SD)"
      ],
      "execution_count": 27,
      "outputs": [
        {
          "output_type": "stream",
          "name": "stdout",
          "text": [
            "Standard Deviation is: 2.8722813232690143\n"
          ]
        }
      ]
    }
  ]
}