{
  "nbformat": 4,
  "nbformat_minor": 0,
  "metadata": {
    "colab": {
      "name": "In_session_hands_on_Practices.ipynb",
      "provenance": [],
      "authorship_tag": "ABX9TyNXqmLfcGszuysgMEZ7Y80W",
      "include_colab_link": true
    },
    "kernelspec": {
      "name": "python3",
      "display_name": "Python 3"
    },
    "language_info": {
      "name": "python"
    }
  },
  "cells": [
    {
      "cell_type": "markdown",
      "metadata": {
        "id": "view-in-github",
        "colab_type": "text"
      },
      "source": [
        "<a href=\"https://colab.research.google.com/github/Sreecr7/DATA690_Nazia/blob/main/assignment_02/In_session_hands_on_Practices.ipynb\" target=\"_parent\"><img src=\"https://colab.research.google.com/assets/colab-badge.svg\" alt=\"Open In Colab\"/></a>"
      ]
    },
    {
      "cell_type": "markdown",
      "metadata": {
        "id": "Chg4vXSe-wTZ"
      },
      "source": [
        "#In-session Hands-on Practices\n",
        "Sree Purani \n",
        "\n"
      ]
    },
    {
      "cell_type": "markdown",
      "metadata": {
        "id": "4o6Rz_MP_mrF"
      },
      "source": [
        "#1.Simple Type"
      ]
    },
    {
      "cell_type": "code",
      "metadata": {
        "colab": {
          "base_uri": "https://localhost:8080/"
        },
        "id": "Not1qOiR-uDv",
        "outputId": "91a0543b-956f-4f95-9ae8-2d7c8b58ba23"
      },
      "source": [
        "x= 5 #integer\n",
        "y= 0.5 #float\n",
        "s= \"Hello\" #string collection of character \n",
        "print(x,y,s)\n"
      ],
      "execution_count": 2,
      "outputs": [
        {
          "output_type": "stream",
          "name": "stdout",
          "text": [
            "5 0.5 Hello\n"
          ]
        }
      ]
    },
    {
      "cell_type": "code",
      "metadata": {
        "colab": {
          "base_uri": "https://localhost:8080/"
        },
        "id": "BhRB4tlpANYB",
        "outputId": "7e303bf4-2ccf-43ba-d582-39db5d253302"
      },
      "source": [
        "type(x)"
      ],
      "execution_count": 4,
      "outputs": [
        {
          "output_type": "execute_result",
          "data": {
            "text/plain": [
              "int"
            ]
          },
          "metadata": {},
          "execution_count": 4
        }
      ]
    },
    {
      "cell_type": "code",
      "metadata": {
        "colab": {
          "base_uri": "https://localhost:8080/"
        },
        "id": "tnxZ7itIAZuV",
        "outputId": "bc4b5601-5c28-4276-9695-34c6a4c794f0"
      },
      "source": [
        "type(y)"
      ],
      "execution_count": 6,
      "outputs": [
        {
          "output_type": "execute_result",
          "data": {
            "text/plain": [
              "float"
            ]
          },
          "metadata": {},
          "execution_count": 6
        }
      ]
    },
    {
      "cell_type": "markdown",
      "metadata": {
        "id": "y-dPG7Mm_wQ_"
      },
      "source": [
        "#2. Collection Type\n",
        "\n",
        "\n",
        "\n"
      ]
    },
    {
      "cell_type": "code",
      "metadata": {
        "colab": {
          "base_uri": "https://localhost:8080/"
        },
        "id": "dUjaezYh_fux",
        "outputId": "65c91d88-83d7-484c-e0d6-c2668eba68cb"
      },
      "source": [
        "a_list = [1,4,7,10]\n",
        "\n",
        "print(a_list)"
      ],
      "execution_count": 3,
      "outputs": [
        {
          "output_type": "stream",
          "name": "stdout",
          "text": [
            "[1, 4, 7, 10]\n"
          ]
        }
      ]
    },
    {
      "cell_type": "code",
      "metadata": {
        "colab": {
          "base_uri": "https://localhost:8080/"
        },
        "id": "fJk_osZfARte",
        "outputId": "634db052-2aee-4879-c12c-1e18fd9a1337"
      },
      "source": [
        "\n",
        "type(a_list)"
      ],
      "execution_count": 5,
      "outputs": [
        {
          "output_type": "execute_result",
          "data": {
            "text/plain": [
              "list"
            ]
          },
          "metadata": {},
          "execution_count": 5
        }
      ]
    },
    {
      "cell_type": "markdown",
      "metadata": {
        "id": "9EaLSbCFAflU"
      },
      "source": [
        "## 3. Loop"
      ]
    },
    {
      "cell_type": "code",
      "metadata": {
        "colab": {
          "base_uri": "https://localhost:8080/"
        },
        "id": "B_Oc1lW-AqxY",
        "outputId": "606ba361-d521-4797-b00e-8a3c53161e74"
      },
      "source": [
        "for i in a_list:\n",
        "  print(\"integer\",i)"
      ],
      "execution_count": 10,
      "outputs": [
        {
          "output_type": "stream",
          "name": "stdout",
          "text": [
            "integer 1\n",
            "integer 4\n",
            "integer 7\n",
            "integer 10\n"
          ]
        }
      ]
    },
    {
      "cell_type": "markdown",
      "metadata": {
        "id": "rLwUKxJjB1NA"
      },
      "source": [
        "##4. Conditions"
      ]
    },
    {
      "cell_type": "code",
      "metadata": {
        "colab": {
          "base_uri": "https://localhost:8080/"
        },
        "id": "hhDxkFhhB6FB",
        "outputId": "fabcce74-b0fc-41fb-f66c-52af2dbe59b9"
      },
      "source": [
        "print(10%2) #modula"
      ],
      "execution_count": 12,
      "outputs": [
        {
          "output_type": "stream",
          "name": "stdout",
          "text": [
            "0\n"
          ]
        }
      ]
    },
    {
      "cell_type": "code",
      "metadata": {
        "colab": {
          "base_uri": "https://localhost:8080/"
        },
        "id": "-PFyvlELCRVA",
        "outputId": "4320c9cd-34f2-4be9-ced3-46174d57c32c"
      },
      "source": [
        "print(23%2) #modula"
      ],
      "execution_count": 13,
      "outputs": [
        {
          "output_type": "stream",
          "name": "stdout",
          "text": [
            "1\n"
          ]
        }
      ]
    },
    {
      "cell_type": "code",
      "metadata": {
        "colab": {
          "base_uri": "https://localhost:8080/"
        },
        "id": "VN7E0xT3CpHJ",
        "outputId": "83f0f4cc-9093-4e2a-8c0b-b71134b02647"
      },
      "source": [
        "for i in a_list:\n",
        "  if i%2 ==1:\n",
        "    print(\"odd number\",i)"
      ],
      "execution_count": 15,
      "outputs": [
        {
          "output_type": "stream",
          "name": "stdout",
          "text": [
            "odd number 1\n",
            "odd number 7\n"
          ]
        }
      ]
    }
  ]
}