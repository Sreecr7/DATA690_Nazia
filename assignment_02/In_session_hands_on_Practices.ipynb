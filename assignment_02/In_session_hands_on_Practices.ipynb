{
  "nbformat": 4,
  "nbformat_minor": 0,
  "metadata": {
    "colab": {
      "name": "In_session_hands_on_Practices.ipynb",
      "provenance": [],
      "authorship_tag": "ABX9TyM6Dkhkck9elCm9yPX1hzak",
      "include_colab_link": true
    },
    "kernelspec": {
      "name": "python3",
      "display_name": "Python 3"
    },
    "language_info": {
      "name": "python"
    }
  },
  "cells": [
    {
      "cell_type": "markdown",
      "metadata": {
        "id": "view-in-github",
        "colab_type": "text"
      },
      "source": [
        "<a href=\"https://colab.research.google.com/github/Sreecr7/DATA690_Nazia/blob/main/assignment_02/In_session_hands_on_Practices.ipynb\" target=\"_parent\"><img src=\"https://colab.research.google.com/assets/colab-badge.svg\" alt=\"Open In Colab\"/></a>"
      ]
    },
    {
      "cell_type": "markdown",
      "metadata": {
        "id": "Chg4vXSe-wTZ"
      },
      "source": [
        "#In-session Hands-on Practices\n",
        "Sree Purani \n",
        "\n"
      ]
    },
    {
      "cell_type": "markdown",
      "metadata": {
        "id": "4o6Rz_MP_mrF"
      },
      "source": [
        "#1.Simple Type\n",
        "- int\n",
        "- float\n",
        "- boolean(True/False , First letter UPPER CASE\n",
        "- str\n",
        "- NAN"
      ]
    },
    {
      "cell_type": "code",
      "metadata": {
        "colab": {
          "base_uri": "https://localhost:8080/"
        },
        "id": "Not1qOiR-uDv",
        "outputId": "91a0543b-956f-4f95-9ae8-2d7c8b58ba23"
      },
      "source": [
        "x= 5 #integer\n",
        "y= 0.5 #float\n",
        "s= \"Hello\" #string collection of character \n",
        "print(x,y,s)\n"
      ],
      "execution_count": 2,
      "outputs": [
        {
          "output_type": "stream",
          "name": "stdout",
          "text": [
            "5 0.5 Hello\n"
          ]
        }
      ]
    },
    {
      "cell_type": "code",
      "metadata": {
        "colab": {
          "base_uri": "https://localhost:8080/"
        },
        "id": "BhRB4tlpANYB",
        "outputId": "7e303bf4-2ccf-43ba-d582-39db5d253302"
      },
      "source": [
        "type(x)"
      ],
      "execution_count": 4,
      "outputs": [
        {
          "output_type": "execute_result",
          "data": {
            "text/plain": [
              "int"
            ]
          },
          "metadata": {},
          "execution_count": 4
        }
      ]
    },
    {
      "cell_type": "code",
      "metadata": {
        "colab": {
          "base_uri": "https://localhost:8080/"
        },
        "id": "tnxZ7itIAZuV",
        "outputId": "bc4b5601-5c28-4276-9695-34c6a4c794f0"
      },
      "source": [
        "type(y)"
      ],
      "execution_count": 6,
      "outputs": [
        {
          "output_type": "execute_result",
          "data": {
            "text/plain": [
              "float"
            ]
          },
          "metadata": {},
          "execution_count": 6
        }
      ]
    },
    {
      "cell_type": "markdown",
      "metadata": {
        "id": "y-dPG7Mm_wQ_"
      },
      "source": [
        "#2. Collection Type\n",
        "\n",
        "\n",
        "\n"
      ]
    },
    {
      "cell_type": "code",
      "metadata": {
        "colab": {
          "base_uri": "https://localhost:8080/"
        },
        "id": "dUjaezYh_fux",
        "outputId": "65c91d88-83d7-484c-e0d6-c2668eba68cb"
      },
      "source": [
        "a_list = [1,4,7,10]\n",
        "\n",
        "print(a_list)"
      ],
      "execution_count": 3,
      "outputs": [
        {
          "output_type": "stream",
          "name": "stdout",
          "text": [
            "[1, 4, 7, 10]\n"
          ]
        }
      ]
    },
    {
      "cell_type": "code",
      "metadata": {
        "colab": {
          "base_uri": "https://localhost:8080/"
        },
        "id": "fJk_osZfARte",
        "outputId": "634db052-2aee-4879-c12c-1e18fd9a1337"
      },
      "source": [
        "\n",
        "type(a_list)"
      ],
      "execution_count": 5,
      "outputs": [
        {
          "output_type": "execute_result",
          "data": {
            "text/plain": [
              "list"
            ]
          },
          "metadata": {},
          "execution_count": 5
        }
      ]
    },
    {
      "cell_type": "markdown",
      "metadata": {
        "id": "9EaLSbCFAflU"
      },
      "source": [
        "## 3. Loop"
      ]
    },
    {
      "cell_type": "code",
      "metadata": {
        "colab": {
          "base_uri": "https://localhost:8080/"
        },
        "id": "B_Oc1lW-AqxY",
        "outputId": "606ba361-d521-4797-b00e-8a3c53161e74"
      },
      "source": [
        "for i in a_list:\n",
        "  print(\"integer\",i)"
      ],
      "execution_count": 10,
      "outputs": [
        {
          "output_type": "stream",
          "name": "stdout",
          "text": [
            "integer 1\n",
            "integer 4\n",
            "integer 7\n",
            "integer 10\n"
          ]
        }
      ]
    },
    {
      "cell_type": "markdown",
      "metadata": {
        "id": "rLwUKxJjB1NA"
      },
      "source": [
        "##4. Conditions"
      ]
    },
    {
      "cell_type": "code",
      "metadata": {
        "colab": {
          "base_uri": "https://localhost:8080/"
        },
        "id": "hhDxkFhhB6FB",
        "outputId": "fabcce74-b0fc-41fb-f66c-52af2dbe59b9"
      },
      "source": [
        "print(10%2) #modula"
      ],
      "execution_count": 12,
      "outputs": [
        {
          "output_type": "stream",
          "name": "stdout",
          "text": [
            "0\n"
          ]
        }
      ]
    },
    {
      "cell_type": "code",
      "metadata": {
        "colab": {
          "base_uri": "https://localhost:8080/"
        },
        "id": "-PFyvlELCRVA",
        "outputId": "4320c9cd-34f2-4be9-ced3-46174d57c32c"
      },
      "source": [
        "print(23%2) #modula"
      ],
      "execution_count": 13,
      "outputs": [
        {
          "output_type": "stream",
          "name": "stdout",
          "text": [
            "1\n"
          ]
        }
      ]
    },
    {
      "cell_type": "code",
      "metadata": {
        "colab": {
          "base_uri": "https://localhost:8080/"
        },
        "id": "VN7E0xT3CpHJ",
        "outputId": "83f0f4cc-9093-4e2a-8c0b-b71134b02647"
      },
      "source": [
        "for i in a_list:\n",
        "  if i%2 ==1:\n",
        "    print(\"odd number\",i)"
      ],
      "execution_count": 15,
      "outputs": [
        {
          "output_type": "stream",
          "name": "stdout",
          "text": [
            "odd number 1\n",
            "odd number 7\n"
          ]
        }
      ]
    },
    {
      "cell_type": "markdown",
      "metadata": {
        "id": "dJO1Bqn5K3sT"
      },
      "source": [
        "##5.Python Built-in Function\n",
        "- range()\n",
        "- list()\n",
        "- int()\n",
        "-str()"
      ]
    },
    {
      "cell_type": "code",
      "metadata": {
        "colab": {
          "base_uri": "https://localhost:8080/"
        },
        "id": "l5AYmFY-Kukr",
        "outputId": "793cfa97-0091-4241-c09b-d83743fa2730"
      },
      "source": [
        "for i in range(10,21,2): #start =10, stop =21(upto 20 ,not including 21) step=2\n",
        "  print(i)"
      ],
      "execution_count": 16,
      "outputs": [
        {
          "output_type": "stream",
          "name": "stdout",
          "text": [
            "10\n",
            "12\n",
            "14\n",
            "16\n",
            "18\n",
            "20\n"
          ]
        }
      ]
    },
    {
      "cell_type": "code",
      "metadata": {
        "colab": {
          "base_uri": "https://localhost:8080/"
        },
        "id": "kJx9e_CcL7nu",
        "outputId": "324ee494-b21c-4d0e-a5e5-5add36e89b57"
      },
      "source": [
        "for j in range(0,5):\n",
        "  print(j)"
      ],
      "execution_count": 18,
      "outputs": [
        {
          "output_type": "stream",
          "name": "stdout",
          "text": [
            "0\n",
            "1\n",
            "2\n",
            "3\n",
            "4\n"
          ]
        }
      ]
    },
    {
      "cell_type": "code",
      "metadata": {
        "colab": {
          "base_uri": "https://localhost:8080/"
        },
        "id": "t-abzweVMl3R",
        "outputId": "f2672404-88ee-47e7-84df-92f1331ba36b"
      },
      "source": [
        "print(list(range(0,5)))"
      ],
      "execution_count": 21,
      "outputs": [
        {
          "output_type": "stream",
          "name": "stdout",
          "text": [
            "[0, 1, 2, 3, 4]\n"
          ]
        }
      ]
    },
    {
      "cell_type": "code",
      "metadata": {
        "colab": {
          "base_uri": "https://localhost:8080/"
        },
        "id": "QU4JCqu6NQmG",
        "outputId": "231fa47b-1494-44f9-f72a-ddfbbe0d120e"
      },
      "source": [
        "x= \"50\"\n",
        "type(x)"
      ],
      "execution_count": 22,
      "outputs": [
        {
          "output_type": "execute_result",
          "data": {
            "text/plain": [
              "str"
            ]
          },
          "metadata": {},
          "execution_count": 22
        }
      ]
    },
    {
      "cell_type": "code",
      "metadata": {
        "colab": {
          "base_uri": "https://localhost:8080/"
        },
        "id": "UmysanFJNWDI",
        "outputId": "e9356e67-23b2-45d6-804f-cef70ba71ad3"
      },
      "source": [
        "y =int(x)\n",
        "type(y)"
      ],
      "execution_count": 23,
      "outputs": [
        {
          "output_type": "execute_result",
          "data": {
            "text/plain": [
              "int"
            ]
          },
          "metadata": {},
          "execution_count": 23
        }
      ]
    },
    {
      "cell_type": "code",
      "metadata": {
        "colab": {
          "base_uri": "https://localhost:8080/"
        },
        "id": "KKKpqdRPNeui",
        "outputId": "bdea46f9-6e0a-401d-ebe2-f55e8a947f6c"
      },
      "source": [
        "print(x,y)"
      ],
      "execution_count": 24,
      "outputs": [
        {
          "output_type": "stream",
          "name": "stdout",
          "text": [
            "50 50\n"
          ]
        }
      ]
    },
    {
      "cell_type": "markdown",
      "metadata": {
        "id": "wG2i5CQqNz_Z"
      },
      "source": [
        "## 6. Accepting User Input"
      ]
    },
    {
      "cell_type": "code",
      "metadata": {
        "colab": {
          "base_uri": "https://localhost:8080/"
        },
        "id": "y4Zpo96bN_Ik",
        "outputId": "ab42dde3-d8f0-4cb7-c634-72e845858c29"
      },
      "source": [
        "x = input(\"Enter an input: \")"
      ],
      "execution_count": 29,
      "outputs": [
        {
          "name": "stdout",
          "output_type": "stream",
          "text": [
            "Enter an input: sree\n"
          ]
        }
      ]
    },
    {
      "cell_type": "code",
      "metadata": {
        "colab": {
          "base_uri": "https://localhost:8080/"
        },
        "id": "donXhsvUOLm0",
        "outputId": "155928d9-3602-41e7-c6ed-c57f3981163e"
      },
      "source": [
        "print(x)"
      ],
      "execution_count": 30,
      "outputs": [
        {
          "output_type": "stream",
          "name": "stdout",
          "text": [
            "sree\n"
          ]
        }
      ]
    },
    {
      "cell_type": "code",
      "metadata": {
        "colab": {
          "base_uri": "https://localhost:8080/"
        },
        "id": "4ONHM-R8OPQR",
        "outputId": "59971025-ca01-4c90-ca55-ef986f1167a0"
      },
      "source": [
        "type(x)"
      ],
      "execution_count": 31,
      "outputs": [
        {
          "output_type": "execute_result",
          "data": {
            "text/plain": [
              "str"
            ]
          },
          "metadata": {},
          "execution_count": 31
        }
      ]
    },
    {
      "cell_type": "markdown",
      "metadata": {
        "id": "hoxZBqxqOo5N"
      },
      "source": [
        "## 7. Exception Handling"
      ]
    },
    {
      "cell_type": "code",
      "metadata": {
        "colab": {
          "base_uri": "https://localhost:8080/"
        },
        "id": "wuK9S5dCOw3f",
        "outputId": "293ebaed-c652-4742-a496-1d1a7cecf9cf"
      },
      "source": [
        "y =int(\"50\")\n",
        "print(y)"
      ],
      "execution_count": 33,
      "outputs": [
        {
          "output_type": "stream",
          "name": "stdout",
          "text": [
            "50\n"
          ]
        }
      ]
    },
    {
      "cell_type": "code",
      "metadata": {
        "colab": {
          "base_uri": "https://localhost:8080/"
        },
        "id": "9OIE795XPGV0",
        "outputId": "7f7f7c7e-3a8c-45f3-9c2e-750471e56e6b"
      },
      "source": [
        "x = input(\"Please enter the integer :\")\n",
        "try:\n",
        "  y=int(x)\n",
        "  print(\"got integer\",y)\n",
        "except:\n",
        "  print(\"Unable to convert user input into integer\")\n"
      ],
      "execution_count": 37,
      "outputs": [
        {
          "output_type": "stream",
          "name": "stdout",
          "text": [
            "Please enter the integer :sree\n",
            "Unable to convert user input into integer\n"
          ]
        }
      ]
    },
    {
      "cell_type": "markdown",
      "metadata": {
        "id": "TBJOf9jmQGhB"
      },
      "source": [
        "## Infinite Loop"
      ]
    },
    {
      "cell_type": "code",
      "metadata": {
        "colab": {
          "base_uri": "https://localhost:8080/"
        },
        "id": "E1PjDKZHQI5u",
        "outputId": "8acf013b-da1b-475c-8f9d-bfe70027e6a4"
      },
      "source": [
        "while True:\n",
        "  x = input(\"Please enter the integer :\")\n",
        "  try:\n",
        "    y=int(x)\n",
        "    print(\"got integer\",y)\n",
        "    break\n",
        "  except:\n",
        "    print(\"Unable to convert user input into integer\")\n"
      ],
      "execution_count": 43,
      "outputs": [
        {
          "output_type": "stream",
          "name": "stdout",
          "text": [
            "Please enter the integer :1\n",
            "got integer 1\n"
          ]
        }
      ]
    }
  ]
}