{
  "nbformat": 4,
  "nbformat_minor": 0,
  "metadata": {
    "colab": {
      "name": "assignment_03.ipynb",
      "provenance": [],
      "collapsed_sections": [],
      "authorship_tag": "ABX9TyPM12NdB63QnzgRFk396npO",
      "include_colab_link": true
    },
    "kernelspec": {
      "name": "python3",
      "display_name": "Python 3"
    },
    "language_info": {
      "name": "python"
    }
  },
  "cells": [
    {
      "cell_type": "markdown",
      "metadata": {
        "id": "view-in-github",
        "colab_type": "text"
      },
      "source": [
        "<a href=\"https://colab.research.google.com/github/Sreecr7/DATA690_Nazia/blob/main/assignment_03/assignment_03.ipynb\" target=\"_parent\"><img src=\"https://colab.research.google.com/assets/colab-badge.svg\" alt=\"Open In Colab\"/></a>"
      ]
    },
    {
      "cell_type": "markdown",
      "metadata": {
        "id": "IkowVv5drJ8u"
      },
      "source": [
        "# 1. Print them in a 10 by 10 matrix neatly arranged like the following (one space between each number):\n"
      ]
    },
    {
      "cell_type": "code",
      "metadata": {
        "colab": {
          "base_uri": "https://localhost:8080/"
        },
        "id": "-BA2IpuwGaX2",
        "outputId": "979c3152-5903-4f3e-da03-70c161b16d49"
      },
      "source": [
        "import random\n",
        "N = 10\n",
        "for row in range(N):\n",
        "    for col in range(N):\n",
        "        print(random.randint(0, 9),end=\" \")\n",
        "    print(\"\\n\", end = \"\")"
      ],
      "execution_count": null,
      "outputs": [
        {
          "output_type": "stream",
          "name": "stdout",
          "text": [
            "0 6 4 5 2 6 9 3 5 8 \n",
            "3 6 8 4 8 8 6 6 8 9 \n",
            "0 8 1 9 8 9 9 2 4 3 \n",
            "0 9 4 4 0 9 1 5 7 2 \n",
            "2 4 3 2 5 1 1 4 8 8 \n",
            "8 5 8 6 2 3 3 3 7 5 \n",
            "5 0 1 1 4 8 6 0 6 2 \n",
            "8 3 7 0 9 2 5 5 4 7 \n",
            "5 5 8 1 0 5 5 9 9 8 \n",
            "3 7 1 7 3 1 3 8 8 0 \n"
          ]
        }
      ]
    },
    {
      "cell_type": "markdown",
      "metadata": {
        "id": "PnCQAv46sZnv"
      },
      "source": [
        "#2. If the random number is an odd number, print \"@\" instead."
      ]
    },
    {
      "cell_type": "code",
      "metadata": {
        "colab": {
          "base_uri": "https://localhost:8080/"
        },
        "id": "VNMOY2RjF8Tv",
        "outputId": "626b3efc-5176-4b4a-a0a3-823960a2c434"
      },
      "source": [
        "k=10\n",
        "for row in range(k):\n",
        "    for col in range(k):\n",
        "      N = random.randint(0, 9)\n",
        "      if N % 2 ==0:\n",
        "            print(N, end=' ')\n",
        "      else:\n",
        "           print('@', end=' ')\n",
        "           \n",
        "    print(\"\\n\",end = \"\")\n",
        "\n",
        "\n"
      ],
      "execution_count": null,
      "outputs": [
        {
          "output_type": "stream",
          "name": "stdout",
          "text": [
            "@ 6 @ @ 8 @ 8 @ 2 @ \n",
            "8 @ @ @ @ 6 8 @ @ 8 \n",
            "6 6 @ 0 @ 6 4 @ 2 @ \n",
            "@ @ 4 @ 2 8 @ 2 @ @ \n",
            "4 @ 2 @ @ @ 0 4 @ 0 \n",
            "2 0 @ @ @ 0 8 @ @ @ \n",
            "2 6 0 6 @ @ @ @ 2 @ \n",
            "@ 8 4 @ 0 0 6 @ @ @ \n",
            "@ @ @ 0 6 4 @ @ @ @ \n",
            "@ 2 6 6 @ 2 6 8 6 6 \n"
          ]
        }
      ]
    },
    {
      "cell_type": "markdown",
      "metadata": {
        "id": "lcDZsnd8t7NQ"
      },
      "source": [
        "# 3.Calculate and Print the total of each row like the following (use \"*\" to separate the total from the numbers):\n"
      ]
    },
    {
      "cell_type": "code",
      "metadata": {
        "colab": {
          "base_uri": "https://localhost:8080/"
        },
        "id": "t2-UTeM3Oj_T",
        "outputId": "fa4e5b47-fa44-461b-e5e1-f2b91776fa70"
      },
      "source": [
        "k=10\n",
        "for row in range(k):\n",
        "    total= 0\n",
        "    for col in range(k):\n",
        "      N = random.randint(0, 9)\n",
        "      total +=N\n",
        "      print(N, end=' ')\n",
        "    print(\"*\" +\" \" +str(total))\n",
        "    "
      ],
      "execution_count": null,
      "outputs": [
        {
          "output_type": "stream",
          "name": "stdout",
          "text": [
            "5 9 3 6 4 9 7 8 2 4 * 57\n",
            "8 5 3 5 5 9 9 2 7 3 * 56\n",
            "5 9 1 5 0 5 3 7 4 3 * 42\n",
            "9 1 2 4 6 1 3 4 2 4 * 36\n",
            "1 3 8 6 2 1 2 5 4 5 * 37\n",
            "8 3 7 8 9 7 1 0 2 2 * 47\n",
            "5 2 3 4 6 4 5 8 4 6 * 47\n",
            "2 3 5 6 1 2 5 8 3 4 * 39\n",
            "6 9 0 6 1 4 8 3 4 4 * 45\n",
            "0 3 4 5 5 9 5 0 9 5 * 45\n"
          ]
        }
      ]
    },
    {
      "cell_type": "code",
      "metadata": {
        "id": "ZuN1dSNRfFLd"
      },
      "source": [
        ""
      ],
      "execution_count": null,
      "outputs": []
    }
  ]
}